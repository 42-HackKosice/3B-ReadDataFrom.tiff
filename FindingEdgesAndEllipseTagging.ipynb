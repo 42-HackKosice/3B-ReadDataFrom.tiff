{
  "nbformat": 4,
  "nbformat_minor": 0,
  "metadata": {
    "colab": {
      "name": "Untitled1.ipynb",
      "provenance": [],
      "collapsed_sections": [],
      "toc_visible": true,
      "include_colab_link": true
    },
    "kernelspec": {
      "name": "python3",
      "display_name": "Python 3"
    },
    "language_info": {
      "name": "python"
    }
  },
  "cells": [
    {
      "cell_type": "markdown",
      "metadata": {
        "id": "view-in-github",
        "colab_type": "text"
      },
      "source": [
        "<a href=\"https://colab.research.google.com/github/42-HackKosice/3B-ReadDataFrom.tiff/blob/main/FindingEdgesAndEllipseTagging.ipynb\" target=\"_parent\"><img src=\"https://colab.research.google.com/assets/colab-badge.svg\" alt=\"Open In Colab\"/></a>"
      ]
    },
    {
      "cell_type": "markdown",
      "metadata": {
        "id": "OxjBg3oa9L-t"
      },
      "source": [
        "# Tu viete programovať bez zbytočného setupovanie u Vás."
      ]
    },
    {
      "cell_type": "code",
      "metadata": {
        "id": "7JJg3FWU82qW"
      },
      "source": [
        "#This program should help us with reading the images and printing the output value to .csv.\n",
        "#Created by:\")\n",
        "#   Timotej Breznický - 3rd grade\n",
        "#   Matej Mazúr - 3rd grade\n",
        "#   Marko Poľanský - 3rd grade\n",
        "# From High school of electrical engineering in Prešov, Slovakia"
      ],
      "execution_count": 56,
      "outputs": []
    },
    {
      "cell_type": "markdown",
      "metadata": {
        "id": "YP4Yl-C1Yxdp"
      },
      "source": [
        "Imports"
      ]
    },
    {
      "cell_type": "code",
      "metadata": {
        "id": "h7Lgoc_NYwFg"
      },
      "source": [
        "import numpy as np\n",
        "import cv2\n",
        "import os\n",
        "from google.colab.patches import cv2_imshow\n",
        "import time"
      ],
      "execution_count": 139,
      "outputs": []
    },
    {
      "cell_type": "markdown",
      "metadata": {
        "id": "1d754HtYhIpj"
      },
      "source": [
        "Functions"
      ]
    },
    {
      "cell_type": "code",
      "metadata": {
        "id": "5YUkW07xhKyA"
      },
      "source": [
        "def filterOutSaltPepperNoise(edgeImg):\n",
        "  # Get rid of salt & pepper noise.\n",
        "  count = 0\n",
        "  lastMedian = edgeImg\n",
        "  median = cv2.medianBlur(edgeImg, 3)\n",
        "  while not np.array_equal(lastMedian, median):\n",
        "    # get those pixels that gets zeroed out\n",
        "    zeroed = np.invert(np.logical_and(median, edgeImg))\n",
        "    edgeImg[zeroed] = 0\n",
        "    count = count + 1\n",
        "    if count > 50:\n",
        "      break\n",
        "    lastMedian = median\n",
        "    median = cv2.medianBlur(edgeImg, 3)\n",
        "\n",
        "def findLargestContour(edgeImg):\n",
        "  contours, hierarchy = cv2.findContours(\n",
        "    edgeImg,\n",
        "    cv2.RETR_EXTERNAL,\n",
        "    cv2.CHAIN_APPROX_SIMPLE\n",
        "  )\n",
        "  # From among them, find the contours with large surface area.\n",
        "  contoursWithArea = []\n",
        "  for contour in contours:\n",
        "    area = cv2.contourArea(contour)\n",
        "    contoursWithArea.append([contour, area])\n",
        "  contoursWithArea.sort(key=lambda tupl: tupl[1], reverse=True)\n",
        "  largestContour = contoursWithArea[0][0]\n",
        "  return largestContour\n",
        "\n",
        "def GetContureOfImage(imgPath):\n",
        "  src = cv2.imread(imgPath, 1)\n",
        "  blurred = cv2.GaussianBlur(src, (5, 5), 0)\n",
        "\n",
        "  blurred_float = blurred.astype(np.float32) / 255.0\n",
        "  # download model from https://github.com/opencv/opencv_extra/blob/5e3a56880fb115e757855f8e01e744c154791144/testdata/cv/ximgproc/model.yml.gz\n",
        "  edgeDetector = cv2.ximgproc.createStructuredEdgeDetection(\"/content/model.yml\")\n",
        "  edges = edgeDetector.detectEdges(blurred_float) * 255.0\n",
        "  edgeDetector.clear()\n",
        "\n",
        "  contour = findLargestContour(edges_8u)\n",
        "\n",
        "  #Draw Ellips to the original image\n",
        "  ellipse = cv2.fitEllipse(contour)\n",
        "\n",
        "  return ellipse"
      ],
      "execution_count": 140,
      "outputs": []
    },
    {
      "cell_type": "code",
      "metadata": {
        "colab": {
          "base_uri": "https://localhost:8080/"
        },
        "id": "Mufm0uRtFurw",
        "outputId": "73438019-eb9a-4f71-864e-296b18586adb"
      },
      "source": [
        "path = r\"/content/Img\"\n",
        "outputFile = \"filename,ellipse_center_x,ellipse_center_y,ellipse_majoraxis,ellipse_minoraxis,ellipse_angle,elapsed_time_ms\\n\"\n",
        "with os.scandir(path) as dirs:\n",
        "  for entry in dirs:\n",
        "    if(entry.name[-5:] == \".tiff\"):\n",
        "      ActualTime = time.time()\n",
        "      imgpath = \"/content/Img/\"+entry.name\n",
        "      line = entry.name + \",\"\n",
        "      try:\n",
        "        _result = GetContureOfImage(imgpath)\n",
        "        line += str(_result).replace(\"(\",\"\").replace(\")\",\"\").replace(\" \",\"\")\n",
        "      except:\n",
        "        line = entry.name + \",,,,,,\"\n",
        "      outputFile += line + \",\" + str(round((time.time()-ActualTime)*1000)) + \"\\n\"\n",
        "print(outputFile)"
      ],
      "execution_count": 149,
      "outputs": [
        {
          "output_type": "stream",
          "text": [
            "filename,ellipse_center_x,ellipse_center_y,ellipse_majoraxis,ellipse_minoraxis,ellipse_angle,elapsed_time_ms\n",
            "2020-01-30_110635_SmartAlignments_flucam.tiff,105.55948638916016,405.0113220214844,206.04116821289062,249.33416748046875,10.059073448181152,2073\n",
            "2018-02-15 17.46.27.410000.tiff,105.55948638916016,405.0113220214844,206.04116821289062,249.33416748046875,10.059073448181152,1805\n",
            "\n"
          ],
          "name": "stdout"
        }
      ]
    }
  ]
}